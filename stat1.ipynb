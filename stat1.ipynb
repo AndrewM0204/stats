{
 "cells": [
  {
   "cell_type": "code",
   "execution_count": 1,
   "id": "357a03dc-2076-43af-9060-233e18f0f04c",
   "metadata": {},
   "outputs": [],
   "source": [
    "import numpy as np\n",
    "import scipy.stats as stats\n",
    "import pandas as pd\n",
    "import matplotlib.pyplot as plt\n",
    "\n",
    "plt.style.use('ggplot')"
   ]
  },
  {
   "cell_type": "code",
   "execution_count": 2,
   "id": "8e0b0742-7174-4f91-93da-c7c59f715229",
   "metadata": {},
   "outputs": [],
   "source": [
    "import math\n",
    "\n",
    "def format_value_with_uncertainty(value, variance, sample_size):\n",
    "    def round_to_one_significant(x):\n",
    "        if x == 0:\n",
    "            return 0.0\n",
    "        exponent = np.floor(np.log10(abs(x)))\n",
    "        mantissa = x / (10 ** exponent)\n",
    "        rounded_mantissa = np.round(mantissa)\n",
    "        if rounded_mantissa == 10:\n",
    "            rounded_mantissa = 1\n",
    "            exponent += 1\n",
    "        return rounded_mantissa * (10 ** exponent)\n",
    "    \n",
    "    def get_decimal_places(x):\n",
    "        s = \"{0:.10f}\".format(x).rstrip('0').rstrip('.')\n",
    "        return len(s.split('.')[1]) if '.' in s else 0\n",
    "    \n",
    "    std_dev = np.sqrt(variance)\n",
    "    standard_error = std_dev / np.sqrt(sample_size)\n",
    "    \n",
    "    if standard_error == 0:\n",
    "        return f\"{round(value):.0f} ± 0\"\n",
    "    \n",
    "    rounded_uncertainty = round_to_one_significant(standard_error)\n",
    "    decimal_places = get_decimal_places(rounded_uncertainty)\n",
    "    \n",
    "    formatted_value = round(value, decimal_places)\n",
    "    formatted_uncertainty = round(rounded_uncertainty, decimal_places)\n",
    "    \n",
    "    return f\"{formatted_value:.{decimal_places}f} ± {formatted_uncertainty:.{decimal_places}f}\""
   ]
  },
  {
   "cell_type": "code",
   "execution_count": 3,
   "id": "a015e17c-4679-44ea-a198-0a4983f8fc4b",
   "metadata": {},
   "outputs": [],
   "source": [
    "def print_hist_dencity(dist, plot_range, save_path):\n",
    "    a = dict()\n",
    "    a[10] = dist.rvs(10)\n",
    "    a[50] = dist.rvs(50)\n",
    "    a[1000] = dist.rvs(1000)\n",
    "    fig, axes = plt.subplots(1, 3, figsize=(12, 5))\n",
    "    for num, ax in zip(a.keys(), axes):\n",
    "        ax.set_title(f'Number of samples {num}')\n",
    "        if isinstance(dist.dist, stats.rv_continuous):\n",
    "            ax.hist(a[num], bins=np.sqrt(num).astype(int), range=plot_range, density=True, color='blue', alpha=0.5)\n",
    "            x = np.linspace(plot_range[0], plot_range[1], num=int(1e5))\n",
    "            ax.plot(x, dist.pdf(x), color='red')\n",
    "        else:\n",
    "            x = np.arange(plot_range[0], plot_range[1])\n",
    "            ax.hist(a[num], bins=min(np.sqrt(num).astype(int), (plot_range[1]-plot_range[0])), range=plot_range, density=True, color='blue', alpha=0.5)\n",
    "            ax.plot(x, dist.pmf(x))\n",
    "    if save_path:\n",
    "        plt.savefig(save_path)\n",
    "    plt.show()\n",
    "\n",
    "def q_mid(x):\n",
    "    return np.percentile(x, [75, 25]).mean()\n",
    "\n",
    "def statistics(dist):\n",
    "    stats = np.empty((3, 6, 1000))\n",
    "    for i in range(1000):\n",
    "        a = dict().fromkeys(range(3))\n",
    "        a[0] = dist.rvs(10)\n",
    "        a[1] = dist.rvs(100)\n",
    "        a[2] = dist.rvs(1000)\n",
    "        for j in range(3):\n",
    "            stats[j, :3, i] = np.array([a[j].mean(), np.median(a[j]), q_mid(a[j])])\n",
    "            stats[j, 3:, i] = stats[j, :3, i] ** 2\n",
    "    ans = stats.mean(axis=2)\n",
    "    ans[:, 3:] = ans[:, 3:]-ans[:,:3]**2\n",
    "    ans = pd.DataFrame(ans, columns=['Mean','Median','$z_Q$', 'Mean variance','Median variance','$z_Q$ variance'])\n",
    "    ans = pd.concat((pd.DataFrame(np.array([10, 100, 1000]), columns=['Sample size']), ans), axis=1)\n",
    "    for i in range(3):\n",
    "        ans['Mean'][i] = format_value_with_uncertainty(ans['Mean'][i], ans['Mean variance'][i], ans['Sample size'][i])\n",
    "        ans['Median'][i] = format_value_with_uncertainty(ans['Median'][i], ans['Median variance'][i], ans['Sample size'][i])\n",
    "        ans['$z_Q$'][i] = format_value_with_uncertainty(ans['$z_Q$'][i], ans['$z_Q$ variance'][i], ans['Sample size'][i])\n",
    "    return ans[['Sample size', 'Mean', 'Median', '$z_Q$']]"
   ]
  },
  {
   "cell_type": "code",
   "execution_count": 4,
   "id": "144a223c-6639-40e0-80c0-1823d4ced5e5",
   "metadata": {},
   "outputs": [],
   "source": [
    "def print_boxplot(dist, save_path=None):\n",
    "    a = dict()\n",
    "    a[10] = dist.rvs(20)\n",
    "    a[50] = dist.rvs(100)\n",
    "    a[1000] = dist.rvs(1000)\n",
    "    fig, axes = plt.subplots(1, 3, figsize=(12, 5))\n",
    "    outliers = dict.fromkeys(a.keys())\n",
    "    for num, ax in zip(a.keys(), axes):\n",
    "        ax.set_title(f'Number of samples {num}')\n",
    "        bplot = ax.boxplot(a[num])\n",
    "        outliers[num] = len(bplot[\"fliers\"][0].get_ydata())\n",
    "    if save_path:\n",
    "        plt.savefig(save_path)\n",
    "    plt.show()\n",
    "    return outliers"
   ]
  },
  {
   "cell_type": "code",
   "execution_count": 5,
   "id": "f5dbe966-7a33-4c49-a9a4-099a7f5cce5f",
   "metadata": {},
   "outputs": [],
   "source": [
    "class MixtureModel(stats.rv_continuous):\n",
    "    def __init__(self, submodels, *args, weights = None, **kwargs):\n",
    "        super().__init__(*args, **kwargs)\n",
    "        self.submodels = submodels\n",
    "        if weights is None:\n",
    "            weights = [1 for _ in submodels]\n",
    "        if len(weights) != len(submodels):\n",
    "            raise(ValueError(f'There are {len(submodels)} submodels and {len(weights)} weights, but they must be equal.'))\n",
    "        self.weights = [w / sum(weights) for w in weights]\n",
    "        \n",
    "    def pdf(self, x):\n",
    "        pdf = self.submodels[0].pdf(x) * self.weights[0]\n",
    "        for submodel, weight in zip(self.submodels[1:], self.weights[1:]):\n",
    "            pdf += submodel.pdf(x)  * weight\n",
    "        return pdf\n",
    "            \n",
    "    def _sf(self, x):\n",
    "        sf = self.submodels[0].sf(x) * self.weights[0]\n",
    "        for submodel, weight in zip(self.submodels[1:], self.weights[1:]):\n",
    "            sf += submodel.sf(x)  * weight\n",
    "        return sf\n",
    "\n",
    "    def _cdf(self, x):\n",
    "        cdf = self.submodels[0].cdf(x) * self.weights[0]\n",
    "        for submodel, weight in zip(self.submodels[1:], self.weights[1:]):\n",
    "            cdf += submodel.cdf(x)  * weight\n",
    "        return cdf\n",
    "\n",
    "        \n",
    "\n",
    "    def rvs(self, size):\n",
    "        submodel_choices = np.random.choice(range(len(self.submodels)), size=size, p = self.weights)\n",
    "        submodel_samples = [submodel.rvs(size=size) for submodel in self.submodels]\n",
    "        rvs = np.empty(submodel_samples[0].shape)\n",
    "        for i, choice in enumerate(submodel_choices):\n",
    "            rvs[i] = submodel_samples[choice][i]\n",
    "        return rvs\n"
   ]
  },
  {
   "cell_type": "code",
   "execution_count": 6,
   "id": "5b4dc84c-1fb3-4f07-84cf-4a96759d3d91",
   "metadata": {},
   "outputs": [],
   "source": [
    "def corr_statistics(dist):\n",
    "    statistics = dict.fromkeys([20, 60, 100], {'Pearson Corr': np.empty(1000), 'Spearman Corr': np.empty(1000)})\n",
    "    ans = dict.fromkeys([20, 60, 100], {'Pearson Corr': '', 'Spearman Corr': ''})\n",
    "    for i in range(1000):\n",
    "        a = {20: dist.rvs(20), 60: dist.rvs(60), 100: dist.rvs(100)}\n",
    "        for j in a.keys():\n",
    "            statistics[j]['Pearson Corr'][i] = stats.pearsonr(a[j][:, 0], a[j][:, 1]).statistic\n",
    "            statistics[j]['Spearman Corr'][i] = stats.spearmanr(a[j][:, 0], a[j][:, 1]).statistic\n",
    "    for k in statistics.keys():\n",
    "        m = np.mean(statistics[k]['Pearson Corr'])\n",
    "        v = np.var(statistics[k]['Pearson Corr'])\n",
    "        ans[k]['Pearson Corr'] = format_value_with_uncertainty(m, v, k)\n",
    "        m = np.mean(statistics[k]['Spearman Corr'])\n",
    "        v = np.var(statistics[k]['Spearman Corr'])\n",
    "        ans[k]['Spearman Corr'] = format_value_with_uncertainty(m, v, k)\n",
    "    return ans"
   ]
  },
  {
   "cell_type": "code",
   "execution_count": 7,
   "id": "1bd288b0-d007-4580-a048-cc3fbc3d4dfb",
   "metadata": {},
   "outputs": [],
   "source": [
    "def plot_level_lines(dist, plot_range_x, plot_range_y, save_path):\n",
    "    f = dist.pdf\n",
    "    x, y = np.mgrid[plot_range_x[0]:plot_range_x[1]:0.01*(plot_range_x[1]-plot_range_x[0]), plot_range_y[0]:plot_range_y[1]:0.01*(plot_range_y[1]-plot_range_y[0])]\n",
    "    pos = np.dstack((x, y))\n",
    "    z = f(pos)\n",
    "    plt.contour(x, y, z, levels=25)\n",
    "    if save_path:\n",
    "        plt.savefig(save_path)\n",
    "    plt.show()"
   ]
  },
  {
   "cell_type": "code",
   "execution_count": 8,
   "id": "78f7f2b3-fa97-4cd6-bfd8-966222996316",
   "metadata": {},
   "outputs": [],
   "source": [
    "def LsS(x, y, true_a, true_b):\n",
    "    a = ((x*y).mean()-(x.mean()*y.mean()))/((x**2).mean()-(x.mean())**2)\n",
    "    b = y.mean()-x.mean()*a\n",
    "    print(a, a/true_a, b, b/true_b)\n",
    "    return a, a/true_a, b, b/true_b"
   ]
  },
  {
   "cell_type": "code",
   "execution_count": 9,
   "id": "047a423b-a174-48fc-b34b-98d41b98494d",
   "metadata": {},
   "outputs": [],
   "source": [
    "from scipy.optimize import minimize\n",
    "\n",
    "def LAV(x, y, true_a, true_b):\n",
    "    def m_a_v(a, b):\n",
    "        return np.abs(a*x+b-y).mean()\n",
    "    w = minimize(lambda w: m_a_v(w[0], w[1]), (1, 1), method='Nelder-Mead').x\n",
    "    print(w[0], w[0]/true_a, w[1], w[1]/true_b)\n",
    "    return w[0], w[0]/true_a, w[1], w[1]/true_b"
   ]
  },
  {
   "cell_type": "code",
   "execution_count": 20,
   "id": "33d6d7f3-05b6-4bbe-9aad-4fbf6f4b3961",
   "metadata": {},
   "outputs": [],
   "source": [
    "def chi_square_norm_test(samples, k, alpha):\n",
    "    treshhold = stats.chi2.ppf(1-alpha, k-1)\n",
    "    H_0_dist = stats.norm(*stats.norm.fit(samples))\n",
    "    bins = np.linspace(H_0_dist.mean()-3*H_0_dist.std(), H_0_dist.mean()+3*H_0_dist.std(), k-1, endpoint=True)\n",
    "    bins = np.append(bins, np.inf)\n",
    "    bins = np.insert(bins, 0, -np.inf)\n",
    "    P = H_0_dist.cdf(bins[1:])-H_0_dist.cdf(bins[:-1])\n",
    "    freq = np.histogram(samples, bins)[0]\n",
    "    statistics = ((freq-len(samples)*P)**2/(len(samples)*P))\n",
    "    criterion = statistics.sum()\n",
    "    if criterion >= treshhold:\n",
    "        result = 'Reject'\n",
    "    else:\n",
    "        result = 'Fail to reject'\n",
    "    table = pd.DataFrame(np.column_stack((bins[:-1].T, bins[1:], (bins[:-1]-H_0_dist.mean())/H_0_dist.std(), (bins[1:]-H_0_dist.mean())/H_0_dist.std(),\n",
    "                         P, statistics)), columns=['Left Edge', 'Right Edge', 'NLeft Edge', 'NRight Edge', 'Probability', 'Stat'])\n",
    "    return table, criterion, result"
   ]
  },
  {
   "cell_type": "code",
   "execution_count": 13,
   "id": "5f9bec23-1915-4639-bd4e-1de4d0254f57",
   "metadata": {},
   "outputs": [
    {
     "name": "stdout",
     "output_type": "stream",
     "text": [
      "1.9214815323058927 0.9607407661529463 1.852721341598598 0.926360670799299\n",
      "1.8896725603413382 0.9448362801706691 1.8959992773540275 0.9479996386770138\n"
     ]
    }
   ],
   "source": [
    "X = np.linspace(-1.8, 2, 20, endpoint=True)\n",
    "eps = stats.norm.rvs(0, 1, size=20)\n",
    "Y_1 = 2+2*X+eps\n",
    "a_1, _, b_1, _ = LsS(X, Y_1, 2, 2)\n",
    "a_2, _, b_2, _ = LAV(X, Y_1, 2, 2)"
   ]
  },
  {
   "cell_type": "code",
   "execution_count": 17,
   "id": "90279b57-bbcc-4acd-8c4b-97ec12bdc3df",
   "metadata": {},
   "outputs": [
    {
     "data": {
      "image/png": "[encoded data removed]",
      "text/plain": [
       "<Figure size 640x480 with 1 Axes>"
      ]
     },
     "metadata": {},
     "output_type": "display_data"
    }
   ],
   "source": [
    "plt.scatter(X, Y_1, label='Невозмущенная выборка')\n",
    "x = np.linspace(-1.8, 2, 1000, endpoint=True)\n",
    "plt.plot(x, 2+2*x, label='Истинная функция')\n",
    "plt.plot(x, b_1+a_1*x, label='МНК')\n",
    "plt.plot(x, b_2+b_2*x, label='МНМ')\n",
    "plt.legend()\n",
    "plt.savefig('./images/41')\n",
    "plt.show()"
   ]
  },
  {
   "cell_type": "code",
   "execution_count": 22,
   "id": "556bdebe-2ec0-414c-a3e7-e091cc65430a",
   "metadata": {},
   "outputs": [
    {
     "name": "stdout",
     "output_type": "stream",
     "text": [
      "0.3574727994035336 0.1787363997017668 2.4793602021433814 1.2396801010716907\n",
      "1.440542335907387 0.7202711679536935 2.4037495519256398 1.2018747759628199\n"
     ]
    }
   ],
   "source": [
    "eps = stats.norm.rvs(0, 1, size=20)\n",
    "Y_2 = 2+2*X+eps\n",
    "Y_2[0] += 10\n",
    "Y_2[-1] += -10\n",
    "a_1, _, b_1, _ = LsS(X, Y_2, 2, 2)\n",
    "a_2, _, b_2, _ = LAV(X, Y_2, 2, 2)"
   ]
  },
  {
   "cell_type": "code",
   "execution_count": 24,
   "id": "69f0c680-ea62-49c1-93b6-307b3d6f6216",
   "metadata": {},
   "outputs": [
    {
     "data": {
      "image/png": "[encoded data removed]",
      "text/plain": [
       "<Figure size 640x480 with 1 Axes>"
      ]
     },
     "metadata": {},
     "output_type": "display_data"
    }
   ],
   "source": [
    "plt.scatter(X, Y_2, label='Возмущенная выборка')\n",
    "x = np.linspace(-1.8, 2, 1000, endpoint=True)\n",
    "plt.plot(x, 2+2*x, label='Истинная функция')\n",
    "plt.plot(x, b_1+a_1*x, label='МНК')\n",
    "plt.plot(x, b_2+b_2*x, label='МНМ')\n",
    "plt.legend()\n",
    "plt.savefig('./images/42')\n",
    "plt.show()"
   ]
  },
  {
   "cell_type": "code",
   "execution_count": 45,
   "id": "29fc31ab-693a-4116-948e-990b12451e3c",
   "metadata": {},
   "outputs": [
    {
     "name": "stdout",
     "output_type": "stream",
     "text": [
      "Fail to reject 6.230556471994799\n",
      "\\begin{tabular}{rrrrrr}\n",
      "\\toprule\n",
      "Left Edge & Right Edge & NLeft Edge & NRight Edge & Probability & Stat \\\\\n",
      "\\midrule\n",
      "-inf & -2.988818 & -inf & -3.000000 & 0.001350 & 0.134990 \\\\\n",
      "-2.988818 & -2.264953 & -3.000000 & -2.250000 & 0.010875 & 0.765762 \\\\\n",
      "-2.264953 & -1.541089 & -2.250000 & -1.500000 & 0.054583 & 1.183594 \\\\\n",
      "-1.541089 & -0.817225 & -1.500000 & -0.750000 & 0.159820 & 0.992143 \\\\\n",
      "-0.817225 & -0.093361 & -0.750000 & -0.000000 & 0.273373 & 0.016067 \\\\\n",
      "-0.093361 & 0.630503 & -0.000000 & 0.750000 & 0.273373 & 0.259359 \\\\\n",
      "0.630503 & 1.354368 & 0.750000 & 1.500000 & 0.159820 & 1.553025 \\\\\n",
      "1.354368 & 2.078232 & 1.500000 & 2.250000 & 0.054583 & 1.183594 \\\\\n",
      "2.078232 & 2.802096 & 2.250000 & 3.000000 & 0.010875 & 0.007034 \\\\\n",
      "2.802096 & inf & 3.000000 & inf & 0.001350 & 0.134990 \\\\\n",
      "\\bottomrule\n",
      "\\end{tabular}\n",
      "\n"
     ]
    }
   ],
   "source": [
    "X = stats.norm.rvs(0, 1, size=100)\n",
    "table, criterion,  res = chi_square_norm_test(X, 10, 0.05)\n",
    "print(res, criterion)\n",
    "print(table.to_latex(index=False))"
   ]
  },
  {
   "cell_type": "code",
   "execution_count": 46,
   "id": "7b184749-3120-4817-b336-e223f3da0c27",
   "metadata": {},
   "outputs": [
    {
     "name": "stdout",
     "output_type": "stream",
     "text": [
      "Fail to reject 4.721604399020876\n",
      "\\begin{tabular}{rrrrrr}\n",
      "\\toprule\n",
      "Left Edge & Right Edge & NLeft Edge & NRight Edge & Probability & Stat \\\\\n",
      "\\midrule\n",
      "-inf & -4.746440 & -inf & -3.000000 & 0.001350 & 0.026998 \\\\\n",
      "-4.746440 & -3.567086 & -3.000000 & -2.250000 & 0.010875 & 0.217491 \\\\\n",
      "-3.567086 & -2.387732 & -2.250000 & -1.500000 & 0.054583 & 0.755817 \\\\\n",
      "-2.387732 & -1.208379 & -1.500000 & -0.750000 & 0.159820 & 0.202030 \\\\\n",
      "-1.208379 & -0.029025 & -0.750000 & -0.000000 & 0.273373 & 1.113558 \\\\\n",
      "-0.029025 & 1.150329 & -0.000000 & 0.750000 & 0.273373 & 0.051872 \\\\\n",
      "1.150329 & 2.329682 & 0.750000 & 1.500000 & 0.159820 & 1.017695 \\\\\n",
      "2.329682 & 3.509036 & 1.500000 & 2.250000 & 0.054583 & 1.091655 \\\\\n",
      "3.509036 & 4.688389 & 2.250000 & 3.000000 & 0.010875 & 0.217491 \\\\\n",
      "4.688389 & inf & 3.000000 & inf & 0.001350 & 0.026998 \\\\\n",
      "\\bottomrule\n",
      "\\end{tabular}\n",
      "\n"
     ]
    }
   ],
   "source": [
    "X = stats.uniform.rvs(-3, 6, size=20)\n",
    "table, criterion,  res = chi_square_norm_test(X, 10, 0.05)\n",
    "print(res, criterion)\n",
    "print(table.to_latex(index=False))"
   ]
  },
  {
   "cell_type": "code",
   "execution_count": 53,
   "id": "9941fcd6-9705-4a3d-8407-274dfe99cfe0",
   "metadata": {},
   "outputs": [
    {
     "name": "stdout",
     "output_type": "stream",
     "text": [
      "Fail to reject 7.3724104565705915\n",
      "\\begin{tabular}{rrrrrr}\n",
      "\\toprule\n",
      "Left Edge & Right Edge & NLeft Edge & NRight Edge & Probability & Stat \\\\\n",
      "\\midrule\n",
      "-inf & -4.902048 & -inf & -3.000000 & 0.001350 & 0.134990 \\\\\n",
      "-4.902048 & -3.678188 & -3.000000 & -2.250000 & 0.010875 & 1.087457 \\\\\n",
      "-3.678188 & -2.454329 & -2.250000 & -1.500000 & 0.054583 & 0.053766 \\\\\n",
      "-2.454329 & -1.230469 & -1.500000 & -0.750000 & 0.159820 & 1.575532 \\\\\n",
      "-1.230469 & -0.006610 & -0.750000 & 0.000000 & 0.273373 & 0.199830 \\\\\n",
      "-0.006610 & 1.217250 & 0.000000 & 0.750000 & 0.273373 & 1.469091 \\\\\n",
      "1.217250 & 2.441109 & 0.750000 & 1.500000 & 0.159820 & 1.575532 \\\\\n",
      "2.441109 & 3.664969 & 1.500000 & 2.250000 & 0.054583 & 0.053766 \\\\\n",
      "3.664969 & 4.888828 & 2.250000 & 3.000000 & 0.010875 & 1.087457 \\\\\n",
      "4.888828 & inf & 3.000000 & inf & 0.001350 & 0.134990 \\\\\n",
      "\\bottomrule\n",
      "\\end{tabular}\n",
      "\n"
     ]
    }
   ],
   "source": [
    "X = stats.uniform.rvs(-3, 6, size=100)\n",
    "table, criterion,  res = chi_square_norm_test(X, 10, 0.05)\n",
    "print(res, criterion)\n",
    "print(table.to_latex(index=False))"
   ]
  },
  {
   "cell_type": "code",
   "execution_count": 52,
   "id": "d39c394c-4fa0-49db-9553-a40248b8dd05",
   "metadata": {},
   "outputs": [
    {
     "name": "stdout",
     "output_type": "stream",
     "text": [
      "Reject 91.58963847245896\n",
      "\\begin{tabular}{rrrrrr}\n",
      "\\toprule\n",
      "Left Edge & Right Edge & NLeft Edge & NRight Edge & Probability & Stat \\\\\n",
      "\\midrule\n",
      "-inf & -5.191484 & -inf & -3.000000 & 0.001350 & 1.349898 \\\\\n",
      "-5.191484 & -3.894217 & -3.000000 & -2.250000 & 0.010875 & 10.874575 \\\\\n",
      "-3.894217 & -2.596950 & -2.250000 & -1.500000 & 0.054583 & 0.754476 \\\\\n",
      "-2.596950 & -1.299683 & -1.500000 & -0.750000 & 0.159820 & 20.457590 \\\\\n",
      "-1.299683 & -0.002416 & -0.750000 & 0.000000 & 0.273373 & 13.332923 \\\\\n",
      "-0.002416 & 1.294851 & 0.000000 & 0.750000 & 0.273373 & 7.866268 \\\\\n",
      "1.294851 & 2.592118 & 0.750000 & 1.500000 & 0.159820 & 24.191778 \\\\\n",
      "2.592118 & 3.889385 & 1.500000 & 2.250000 & 0.054583 & 0.537658 \\\\\n",
      "3.889385 & 5.186652 & 2.250000 & 3.000000 & 0.010875 & 10.874575 \\\\\n",
      "5.186652 & inf & 3.000000 & inf & 0.001350 & 1.349898 \\\\\n",
      "\\bottomrule\n",
      "\\end{tabular}\n",
      "\n"
     ]
    }
   ],
   "source": [
    "X = stats.uniform.rvs(-3, 6, size=1000)\n",
    "table, criterion,  res = chi_square_norm_test(X, 10, 0.05)\n",
    "print(res, criterion)\n",
    "print(table.to_latex(index=False))"
   ]
  },
  {
   "cell_type": "code",
   "execution_count": null,
   "id": "452deea9-7a34-4b8e-ab74-38422f4468a3",
   "metadata": {},
   "outputs": [],
   "source": []
  }
 ],
 "metadata": {
  "kernelspec": {
   "display_name": "Python 3 (ipykernel)",
   "language": "python",
   "name": "python3"
  },
  "language_info": {
   "codemirror_mode": {
    "name": "ipython",
    "version": 3
   },
   "file_extension": ".py",
   "mimetype": "text/x-python",
   "name": "python",
   "nbconvert_exporter": "python",
   "pygments_lexer": "ipython3",
   "version": "3.12.3"
  }
 },
 "nbformat": 4,
 "nbformat_minor": 5
}
