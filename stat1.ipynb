{
 "cells": [
  {
   "cell_type": "code",
   "execution_count": 1,
   "id": "357a03dc-2076-43af-9060-233e18f0f04c",
   "metadata": {},
   "outputs": [],
   "source": [
    "import numpy as np\n",
    "import scipy.stats as stats\n",
    "import pandas as pd\n",
    "import matplotlib.pyplot as plt\n",
    "\n",
    "plt.style.use('ggplot')"
   ]
  },
  {
   "cell_type": "code",
   "execution_count": 2,
   "id": "8e0b0742-7174-4f91-93da-c7c59f715229",
   "metadata": {},
   "outputs": [],
   "source": [
    "import math\n",
    "\n",
    "def format_value_with_uncertainty(value, variance, sample_size):\n",
    "    def round_to_one_significant(x):\n",
    "        if x == 0:\n",
    "            return 0.0\n",
    "        exponent = np.floor(np.log10(abs(x)))\n",
    "        mantissa = x / (10 ** exponent)\n",
    "        rounded_mantissa = np.round(mantissa)\n",
    "        if rounded_mantissa == 10:\n",
    "            rounded_mantissa = 1\n",
    "            exponent += 1\n",
    "        return rounded_mantissa * (10 ** exponent)\n",
    "    \n",
    "    def get_decimal_places(x):\n",
    "        s = \"{0:.10f}\".format(x).rstrip('0').rstrip('.')\n",
    "        return len(s.split('.')[1]) if '.' in s else 0\n",
    "    \n",
    "    std_dev = np.sqrt(variance)\n",
    "    standard_error = std_dev / np.sqrt(sample_size)\n",
    "    \n",
    "    if standard_error == 0:\n",
    "        return f\"{round(value):.0f} ± 0\"\n",
    "    \n",
    "    rounded_uncertainty = round_to_one_significant(standard_error)\n",
    "    decimal_places = get_decimal_places(rounded_uncertainty)\n",
    "    \n",
    "    formatted_value = round(value, decimal_places)\n",
    "    formatted_uncertainty = round(rounded_uncertainty, decimal_places)\n",
    "    \n",
    "    return f\"{formatted_value:.{decimal_places}f} ± {formatted_uncertainty:.{decimal_places}f}\""
   ]
  },
  {
   "cell_type": "code",
   "execution_count": 3,
   "id": "a015e17c-4679-44ea-a198-0a4983f8fc4b",
   "metadata": {},
   "outputs": [],
   "source": [
    "def print_hist_dencity(dist, plot_range, save_path):\n",
    "    a = dict()\n",
    "    a[10] = dist.rvs(10)\n",
    "    a[50] = dist.rvs(50)\n",
    "    a[1000] = dist.rvs(1000)\n",
    "    fig, axes = plt.subplots(1, 3, figsize=(12, 5))\n",
    "    for num, ax in zip(a.keys(), axes):\n",
    "        ax.set_title(f'Number of samples {num}')\n",
    "        if isinstance(dist.dist, stats.rv_continuous):\n",
    "            ax.hist(a[num], bins=np.sqrt(num).astype(int), range=plot_range, density=True, color='blue', alpha=0.5)\n",
    "            x = np.linspace(plot_range[0], plot_range[1], num=int(1e5))\n",
    "            ax.plot(x, dist.pdf(x), color='red')\n",
    "        else:\n",
    "            x = np.arange(plot_range[0], plot_range[1])\n",
    "            ax.hist(a[num], bins=min(np.sqrt(num).astype(int), (plot_range[1]-plot_range[0])), range=plot_range, density=True, color='blue', alpha=0.5)\n",
    "            ax.plot(x, dist.pmf(x))\n",
    "    if save_path:\n",
    "        plt.savefig(save_path)\n",
    "    plt.show()\n",
    "\n",
    "def q_mid(x):\n",
    "    return np.percentile(x, [75, 25]).mean()\n",
    "\n",
    "def statistics(dist):\n",
    "    stats = np.empty((3, 6, 1000))\n",
    "    for i in range(1000):\n",
    "        a = dict().fromkeys(range(3))\n",
    "        a[0] = dist.rvs(10)\n",
    "        a[1] = dist.rvs(100)\n",
    "        a[2] = dist.rvs(1000)\n",
    "        for j in range(3):\n",
    "            stats[j, :3, i] = np.array([a[j].mean(), np.median(a[j]), q_mid(a[j])])\n",
    "            stats[j, 3:, i] = stats[j, :3, i] ** 2\n",
    "    ans = stats.mean(axis=2)\n",
    "    ans[:, 3:] = ans[:, 3:]-ans[:,:3]**2\n",
    "    ans = pd.DataFrame(ans, columns=['Mean','Median','$z_Q$', 'Mean variance','Median variance','$z_Q$ variance'])\n",
    "    ans = pd.concat((pd.DataFrame(np.array([10, 100, 1000]), columns=['Sample size']), ans), axis=1)\n",
    "    for i in range(3):\n",
    "        ans['Mean'][i] = format_value_with_uncertainty(ans['Mean'][i], ans['Mean variance'][i], ans['Sample size'][i])\n",
    "        ans['Median'][i] = format_value_with_uncertainty(ans['Median'][i], ans['Median variance'][i], ans['Sample size'][i])\n",
    "        ans['$z_Q$'][i] = format_value_with_uncertainty(ans['$z_Q$'][i], ans['$z_Q$ variance'][i], ans['Sample size'][i])\n",
    "    return ans[['Sample size', 'Mean', 'Median', '$z_Q$']]"
   ]
  },
  {
   "cell_type": "code",
   "execution_count": 4,
   "id": "144a223c-6639-40e0-80c0-1823d4ced5e5",
   "metadata": {},
   "outputs": [],
   "source": [
    "def print_boxplot(dist, save_path=None):\n",
    "    a = dict()\n",
    "    a[10] = dist.rvs(20)\n",
    "    a[50] = dist.rvs(100)\n",
    "    a[1000] = dist.rvs(1000)\n",
    "    fig, axes = plt.subplots(1, 3, figsize=(12, 5))\n",
    "    outliers = dict.fromkeys(a.keys())\n",
    "    for num, ax in zip(a.keys(), axes):\n",
    "        ax.set_title(f'Number of samples {num}')\n",
    "        bplot = ax.boxplot(a[num])\n",
    "        outliers[num] = len(bplot[\"fliers\"][0].get_ydata())\n",
    "    if save_path:\n",
    "        plt.savefig(save_path)\n",
    "    plt.show()\n",
    "    return outliers"
   ]
  },
  {
   "cell_type": "code",
   "execution_count": 5,
   "id": "f5dbe966-7a33-4c49-a9a4-099a7f5cce5f",
   "metadata": {},
   "outputs": [],
   "source": [
    "class MixtureModel(stats.rv_continuous):\n",
    "    def __init__(self, submodels, *args, weights = None, **kwargs):\n",
    "        super().__init__(*args, **kwargs)\n",
    "        self.submodels = submodels\n",
    "        if weights is None:\n",
    "            weights = [1 for _ in submodels]\n",
    "        if len(weights) != len(submodels):\n",
    "            raise(ValueError(f'There are {len(submodels)} submodels and {len(weights)} weights, but they must be equal.'))\n",
    "        self.weights = [w / sum(weights) for w in weights]\n",
    "        \n",
    "    def pdf(self, x):\n",
    "        pdf = self.submodels[0].pdf(x) * self.weights[0]\n",
    "        for submodel, weight in zip(self.submodels[1:], self.weights[1:]):\n",
    "            pdf += submodel.pdf(x)  * weight\n",
    "        return pdf\n",
    "            \n",
    "    def _sf(self, x):\n",
    "        sf = self.submodels[0].sf(x) * self.weights[0]\n",
    "        for submodel, weight in zip(self.submodels[1:], self.weights[1:]):\n",
    "            sf += submodel.sf(x)  * weight\n",
    "        return sf\n",
    "\n",
    "    def _cdf(self, x):\n",
    "        cdf = self.submodels[0].cdf(x) * self.weights[0]\n",
    "        for submodel, weight in zip(self.submodels[1:], self.weights[1:]):\n",
    "            cdf += submodel.cdf(x)  * weight\n",
    "        return cdf\n",
    "\n",
    "        \n",
    "\n",
    "    def rvs(self, size):\n",
    "        submodel_choices = np.random.choice(range(len(self.submodels)), size=size, p = self.weights)\n",
    "        submodel_samples = [submodel.rvs(size=size) for submodel in self.submodels]\n",
    "        rvs = np.empty(submodel_samples[0].shape)\n",
    "        for i, choice in enumerate(submodel_choices):\n",
    "            rvs[i] = submodel_samples[choice][i]\n",
    "        return rvs\n"
   ]
  },
  {
   "cell_type": "code",
   "execution_count": 6,
   "id": "5b4dc84c-1fb3-4f07-84cf-4a96759d3d91",
   "metadata": {},
   "outputs": [],
   "source": [
    "def corr_statistics(dist):\n",
    "    statistics = dict.fromkeys([20, 60, 100], {'Pearson Corr': np.empty(1000), 'Spearman Corr': np.empty(1000)})\n",
    "    ans = dict.fromkeys([20, 60, 100], {'Pearson Corr': '', 'Spearman Corr': ''})\n",
    "    for i in range(1000):\n",
    "        a = {20: dist.rvs(20), 60: dist.rvs(60), 100: dist.rvs(100)}\n",
    "        for j in a.keys():\n",
    "            statistics[j]['Pearson Corr'][i] = stats.pearsonr(a[j][:, 0], a[j][:, 1]).statistic\n",
    "            statistics[j]['Spearman Corr'][i] = stats.spearmanr(a[j][:, 0], a[j][:, 1]).statistic\n",
    "    for k in statistics.keys():\n",
    "        m = np.mean(statistics[k]['Pearson Corr'])\n",
    "        v = np.var(statistics[k]['Pearson Corr'])\n",
    "        ans[k]['Pearson Corr'] = format_value_with_uncertainty(m, v, k)\n",
    "        m = np.mean(statistics[k]['Spearman Corr'])\n",
    "        v = np.var(statistics[k]['Spearman Corr'])\n",
    "        ans[k]['Spearman Corr'] = format_value_with_uncertainty(m, v, k)\n",
    "    return ans"
   ]
  },
  {
   "cell_type": "code",
   "execution_count": 7,
   "id": "1bd288b0-d007-4580-a048-cc3fbc3d4dfb",
   "metadata": {},
   "outputs": [],
   "source": [
    "def plot_level_lines(dist, plot_range_x, plot_range_y, save_path):\n",
    "    f = dist.pdf\n",
    "    x, y = np.mgrid[plot_range_x[0]:plot_range_x[1]:0.01*(plot_range_x[1]-plot_range_x[0]), plot_range_y[0]:plot_range_y[1]:0.01*(plot_range_y[1]-plot_range_y[0])]\n",
    "    pos = np.dstack((x, y))\n",
    "    z = f(pos)\n",
    "    plt.contour(x, y, z, levels=25)\n",
    "    if save_path:\n",
    "        plt.savefig(save_path)\n",
    "    plt.show()"
   ]
  },
  {
   "cell_type": "code",
   "execution_count": 8,
   "id": "78f7f2b3-fa97-4cd6-bfd8-966222996316",
   "metadata": {},
   "outputs": [],
   "source": [
    "def LsS(x, y, true_a, true_b):\n",
    "    a = ((x*y).mean()-(x.mean()*y.mean()))/((x**2).mean()-(x.mean())**2)\n",
    "    b = y.mean()-x.mean()*a\n",
    "    return a, a/true_a, b, b/true_b"
   ]
  },
  {
   "cell_type": "code",
   "execution_count": 9,
   "id": "047a423b-a174-48fc-b34b-98d41b98494d",
   "metadata": {},
   "outputs": [],
   "source": [
    "from scipy.optimize import minimize\n",
    "\n",
    "def LAV(x, y, true_a, true_b):\n",
    "    def m_a_v(a, b):\n",
    "        return np.abs(a*x+b-y).mean()\n",
    "    w = minimize(lambda w: m_a_v(w[0], w[1]), (1, 1), method='Nelder-Mead').x\n",
    "    return w[0], w[0]/true_a, w[1], w[1]/true_b"
   ]
  },
  {
   "cell_type": "code",
   "execution_count": 58,
   "id": "33d6d7f3-05b6-4bbe-9aad-4fbf6f4b3961",
   "metadata": {},
   "outputs": [],
   "source": [
    "def chi_square_norm_test(samples, k, alpha):\n",
    "    treshhold = stats.chi2.ppf(1-alpha, k-1)\n",
    "    H_0_dist = stats.norm(*stats.norm.fit(samples))\n",
    "    bins = np.linspace(H_0_dist.mean()-3*H_0_dist.std(), H_0_dist.mean()+3*H_0_dist.std(), k+1, endpoint=True)\n",
    "    P = H_0_dist.cdf(bins[1:])-H_0_dist.cdf(bins[:-1])\n",
    "    freq = np.histogram(samples, bins)[0]\n",
    "    statistics = ((freq-len(samples)*P)**2/(len(samples)*P))\n",
    "    criterion = statistics.sum()\n",
    "    if criterion >= treshhold:\n",
    "        result = 'Reject'\n",
    "    else:\n",
    "        result = 'Fail to reject'\n",
    "    return statistics, result"
   ]
  },
  {
   "cell_type": "code",
   "execution_count": 16,
   "id": "5f9bec23-1915-4639-bd4e-1de4d0254f57",
   "metadata": {},
   "outputs": [
    {
     "data": {
      "text/plain": [
       "((1.9411595882697332,\n",
       "  0.9705797941348666,\n",
       "  2.1025258591905356,\n",
       "  1.0512629295952678),\n",
       " (1.9678194415646102,\n",
       "  0.9839097207823051,\n",
       "  2.001494298594312,\n",
       "  1.000747149297156))"
      ]
     },
     "execution_count": 16,
     "metadata": {},
     "output_type": "execute_result"
    }
   ],
   "source": [
    "X = np.linspace(-1.8, 2, 20, endpoint=True)\n",
    "eps = stats.norm.rvs(0, 1, size=20)\n",
    "Y_1 = 2+2*X+eps\n",
    "LsS(X, Y_1, 2, 2), LAV(X, Y_1, 2, 2)"
   ]
  },
  {
   "cell_type": "code",
   "execution_count": 27,
   "id": "556bdebe-2ec0-414c-a3e7-e091cc65430a",
   "metadata": {},
   "outputs": [
    {
     "data": {
      "text/plain": [
       "((0.4016969621433829,\n",
       "  0.20084848107169145,\n",
       "  2.1524964214320628,\n",
       "  1.0762482107160314),\n",
       " (1.9445716614215582,\n",
       "  0.9722858307107791,\n",
       "  1.8725442196400122,\n",
       "  0.9362721098200061))"
      ]
     },
     "execution_count": 27,
     "metadata": {},
     "output_type": "execute_result"
    }
   ],
   "source": [
    "eps = stats.norm.rvs(0, 1, size=20)\n",
    "Y_2 = 2+2*X+eps\n",
    "Y_2[0] += 10\n",
    "Y_2[-1] += -10\n",
    "LsS(X, Y_2, 2, 2), LAV(X, Y_2, 2, 2)"
   ]
  },
  {
   "cell_type": "code",
   "execution_count": 126,
   "id": "29fc31ab-693a-4116-948e-990b12451e3c",
   "metadata": {},
   "outputs": [
    {
     "name": "stdout",
     "output_type": "stream",
     "text": [
      "Fail to reject\n",
      "\\begin{tabular}{lrrrrr}\n",
      "\\toprule\n",
      " & 0 & 1 & 2 & 3 & 4 \\\\\n",
      "\\midrule\n",
      "0 & 2.935204 & 0.586970 & 0.001148 & 0.360119 & 3.087688 \\\\\n",
      "1 & 0.141452 & 1.393804 & 0.985063 & 0.294990 & 0.053083 \\\\\n",
      "2 & 0.660706 & 0.004345 & 0.000041 & 2.437704 & 0.285459 \\\\\n",
      "3 & 1.411555 & 0.360119 & 0.001148 & 0.586970 & 0.211708 \\\\\n",
      "\\bottomrule\n",
      "\\end{tabular}\n",
      "\n"
     ]
    }
   ],
   "source": [
    "X = stats.norm.rvs(0, 1, size=100)\n",
    "table, res = chi_square_norm_test(X, 20, 0.05)\n",
    "print(res)\n",
    "print(pd.DataFrame(table.reshape((4,5))).to_latex())"
   ]
  },
  {
   "cell_type": "code",
   "execution_count": 131,
   "id": "7b184749-3120-4817-b336-e223f3da0c27",
   "metadata": {},
   "outputs": [
    {
     "name": "stdout",
     "output_type": "stream",
     "text": [
      "Fail to reject\n",
      "\\begin{tabular}{lrrrrr}\n",
      "\\toprule\n",
      " & 0 & 1 & 2 & 3 & 4 \\\\\n",
      "\\midrule\n",
      "0 & 0.042342 & 0.094611 & 0.193338 & 0.361318 & 0.236872 \\\\\n",
      "1 & 1.109256 & 1.379809 & 0.021327 & 0.011387 & 1.142983 \\\\\n",
      "2 & 0.054417 & 0.011387 & 0.358227 & 0.104547 & 0.001251 \\\\\n",
      "3 & 0.236872 & 1.128963 & 0.193338 & 0.094611 & 0.042342 \\\\\n",
      "\\bottomrule\n",
      "\\end{tabular}\n",
      "\n"
     ]
    }
   ],
   "source": [
    "X = stats.uniform.rvs(-3, 6, size=20)\n",
    "table, res = chi_square_norm_test(X, 20, 0.05)\n",
    "print(res)\n",
    "print(pd.DataFrame(table.reshape((4,5))).to_latex())"
   ]
  },
  {
   "cell_type": "code",
   "execution_count": 132,
   "id": "c3da4ab7-d12a-4b52-9ff6-1f28b8daf96b",
   "metadata": {},
   "outputs": [
    {
     "name": "stdout",
     "output_type": "stream",
     "text": [
      "Reject\n",
      "\\begin{tabular}{lrrrrr}\n",
      "\\toprule\n",
      " & 0 & 1 & 2 & 3 & 4 \\\\\n",
      "\\midrule\n",
      "0 & 0.105854 & 0.236528 & 0.483344 & 0.903295 & 0.134779 \\\\\n",
      "1 & 5.331548 & 1.885749 & 0.053318 & 1.060983 & 5.895571 \\\\\n",
      "2 & 1.422141 & 2.414661 & 1.396636 & 8.931032 & 0.142730 \\\\\n",
      "3 & 0.134779 & 0.903295 & 0.483344 & 0.236528 & 0.105854 \\\\\n",
      "\\bottomrule\n",
      "\\end{tabular}\n",
      "\n"
     ]
    }
   ],
   "source": [
    "X = stats.uniform.rvs(-3, 6, size=50)\n",
    "table, res = chi_square_norm_test(X, 20, 0.05)\n",
    "print(res)\n",
    "print(pd.DataFrame(table.reshape((4,5))).to_latex())"
   ]
  },
  {
   "cell_type": "code",
   "execution_count": 133,
   "id": "9941fcd6-9705-4a3d-8407-274dfe99cfe0",
   "metadata": {},
   "outputs": [
    {
     "name": "stdout",
     "output_type": "stream",
     "text": [
      "Reject\n",
      "\\begin{tabular}{lrrrrr}\n",
      "\\toprule\n",
      " & 0 & 1 & 2 & 3 & 4 \\\\\n",
      "\\midrule\n",
      "0 & 0.211708 & 0.473056 & 0.966688 & 1.806590 & 15.474378 \\\\\n",
      "1 & 0.006255 & 1.393804 & 0.115194 & 3.101893 & 1.218945 \\\\\n",
      "2 & 0.660706 & 2.523418 & 0.115194 & 0.175691 & 2.087069 \\\\\n",
      "3 & 0.002490 & 0.020706 & 0.966688 & 0.473056 & 0.211708 \\\\\n",
      "\\bottomrule\n",
      "\\end{tabular}\n",
      "\n"
     ]
    }
   ],
   "source": [
    "X = stats.uniform.rvs(-3, 6, size=100)\n",
    "table, res = chi_square_norm_test(X, 20, 0.05)\n",
    "print(res)\n",
    "print(pd.DataFrame(table.reshape((4,5))).to_latex())"
   ]
  },
  {
   "cell_type": "code",
   "execution_count": null,
   "id": "d39c394c-4fa0-49db-9553-a40248b8dd05",
   "metadata": {},
   "outputs": [],
   "source": []
  }
 ],
 "metadata": {
  "kernelspec": {
   "display_name": "Python 3 (ipykernel)",
   "language": "python",
   "name": "python3"
  },
  "language_info": {
   "codemirror_mode": {
    "name": "ipython",
    "version": 3
   },
   "file_extension": ".py",
   "mimetype": "text/x-python",
   "name": "python",
   "nbconvert_exporter": "python",
   "pygments_lexer": "ipython3",
   "version": "3.12.3"
  }
 },
 "nbformat": 4,
 "nbformat_minor": 5
}
